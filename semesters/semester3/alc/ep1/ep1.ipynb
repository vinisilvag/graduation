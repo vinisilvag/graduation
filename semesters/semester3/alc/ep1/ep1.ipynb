{
 "cells": [
  {
   "cell_type": "markdown",
   "metadata": {
    "id": "ruYnh950B_xv"
   },
   "source": [
    "# Exercício de Programação 1\n",
    "\n",
    "<font color=\"red\">**Prazo de submissão: 23:59 do dia 08.11.2021** </font>\n",
    "\n",
    "2021.2 Álgebra Linear Computacional - DCC - UFMG\n",
    "\n",
    "Erickson - Fabricio\n",
    "\n",
    "Instruções:\n",
    "* Antes de submeter suas soluções, certifique-se de que tudo roda como esperado. Primeiro, **reinicie o kernel** no menu, selecione Kernel$\\rightarrow$Restart e então execute **todas as células** (no menu, Cell$\\rightarrow$Run All)\n",
    "* Apenas o arquivo .ipynb deve ser submetido. Ele não deve ser compactado.\n",
    "* Não deixe de preencher seu nome e número de matrícula na célula a seguir"
   ]
  },
  {
   "cell_type": "markdown",
   "metadata": {
    "id": "x4CsNEoOF4BC"
   },
   "source": [
    "**Nome do(s) aluno(s):** Vinicius Silva Gomes, Mirna Mendonça e Silva, Filipe de Araújo Mendes\n",
    "\n",
    "**Matricula(s):** 2021421869, 2021421940, 2021031920"
   ]
  },
  {
   "cell_type": "markdown",
   "metadata": {
    "id": "Wj3pr8MlsKDK"
   },
   "source": [
    "### Questão 1\n",
    "\n",
    "Dadas as matrizes $A$, $B$ e o vetor $C$:\n",
    "\n",
    "$$\n",
    "A = \\begin{bmatrix}\n",
    " 2 & 1 & 3\\\\\n",
    " 3 & 1 & 4\\\\\n",
    " 5 & 7 & 12\n",
    "\\end{bmatrix}_{3\\times 3}\n",
    "\\qquad\n",
    "B = \\begin{bmatrix}\n",
    " 1 & 0 & 0\\\\\n",
    " 0 & 1 & 0\\\\\n",
    " 0 & 0 & 1\n",
    "\\end{bmatrix}_{3\\times 3}\n",
    "\\qquad\n",
    "C = \\begin{bmatrix}\n",
    " 3 \\\\\n",
    " 1 \\\\\n",
    " 2\n",
    "\\end{bmatrix}_{3\\times 1}\n",
    "$$\n",
    "\n",
    "Gere as matrizes D, E e o vetor F tal que:\n",
    "\n",
    "$$\n",
    "D = A B \\\\\n",
    "E = A^\\top + B\\\\\n",
    "F = A  C\n",
    "$$\n",
    "\n",
    "*Dicas:*\n",
    "* *Imprima ```A.shape, B.shape, C.shape``` e confira se as dimensões de suas matrizes batem com a descrição do enunciado.*\n",
    "* As operações de produto e transposição estão definidas na documentação da biblioteca ```numpy```."
   ]
  },
  {
   "cell_type": "code",
   "execution_count": 1,
   "metadata": {
    "colab": {
     "base_uri": "https://localhost:8080/"
    },
    "id": "9ttFs0HQxBj-",
    "outputId": "07e58997-0419-424f-c35e-b6ed01e5f296"
   },
   "outputs": [
    {
     "name": "stdout",
     "output_type": "stream",
     "text": [
      "Shape de A: (3, 3)\n",
      "Shape de B: (3, 3)\n",
      "Shape de C: (3, 1)\n",
      "\n",
      "D:\n",
      " [[ 2  1  3]\n",
      " [ 3  1  4]\n",
      " [ 5  7 12]]\n",
      "\n",
      "E:\n",
      " [[ 3  3  5]\n",
      " [ 1  2  7]\n",
      " [ 3  4 13]]\n",
      "\n",
      "F:\n",
      " [[13]\n",
      " [18]\n",
      " [46]]\n"
     ]
    }
   ],
   "source": [
    "# Código para Exercício 1\n",
    "\n",
    "import numpy as np\n",
    "import matplotlib.pyplot as plt\n",
    "\n",
    "a = np.array([[2, 1, 3], [3, 1, 4], [5, 7, 12]])\n",
    "b = np.eye(3, dtype=int)\n",
    "c = np.array([[3], [1], [2]])\n",
    "\n",
    "print(\"Shape de A: {}\".format(a.shape))\n",
    "print(\"Shape de B: {}\".format(b.shape))\n",
    "print(\"Shape de C: {}\".format(c.shape), end='\\n\\n')\n",
    "\n",
    "d = a @ b\n",
    "e = a.T + b\n",
    "f = a @ c\n",
    "\n",
    "print(\"D:\\n\", d, end='\\n\\n')\n",
    "print(\"E:\\n\", e, end='\\n\\n')\n",
    "print(\"F:\\n\", f)"
   ]
  },
  {
   "cell_type": "markdown",
   "metadata": {
    "id": "6rP_Qt3xGiZv"
   },
   "source": [
    "### Questão 2\n"
   ]
  },
  {
   "cell_type": "markdown",
   "metadata": {
    "id": "s27s4Jp-U9n1"
   },
   "source": [
    "\n",
    "#### Questão 2.1\n",
    "\n",
    "Uma forma de representar um vetor no espaço é através de um ponto localizado na extremidade da \"seta\" do vetor. Essa representação é especialmente útil quando queremos vizualizar uma grande quantidade de vetores. Crie um array chamado `dados`, de tamanho $n \\times 2$, em que cada linha represente um dos seguintes vetores de tamanho 2:\n",
    "\n",
    "- $(\\ 3.4,\\ 4.4\\ )$\n",
    "- $(\\ 0.6,\\ 3.7\\ )$\n",
    "- $(\\ 4.2,\\ 3.8\\ )$\n",
    "- $(\\ -0.1,\\ 3.8\\ )$\n",
    "- $(\\ 1.2,\\ 3.8\\ )$\n",
    "- $(\\ 3.2,\\ 3.2\\ )$\n",
    "- $(\\ 3.9,\\ 2.3\\ )$\n",
    "- $(\\ 1.4,\\ 3.6\\ )$\n",
    "- $(\\ 3.6,\\ 4.7\\ )$\n",
    "- $(\\ 1.0,\\ 3.6\\ )$ \n",
    "\n",
    "\n",
    "\n",
    "Você pode achar a documentação do [`np.array`](https://numpy.org/doc/stable/reference/generated/numpy.array.html) útil."
   ]
  },
  {
   "cell_type": "code",
   "execution_count": 9,
   "metadata": {
    "colab": {
     "base_uri": "https://localhost:8080/"
    },
    "id": "laSnwDnTT2b2",
    "outputId": "9e97c546-0b26-4034-f1ca-1b5503288cc2"
   },
   "outputs": [
    {
     "name": "stdout",
     "output_type": "stream",
     "text": [
      "[[ 3.4  4.4]\n",
      " [ 0.6  3.7]\n",
      " [ 4.2  3.8]\n",
      " [-0.1  3.8]\n",
      " [ 1.2  3.8]\n",
      " [ 3.2  3.2]\n",
      " [ 3.9  2.3]\n",
      " [ 1.4  3.6]\n",
      " [ 3.6  4.7]\n",
      " [ 1.   3.6]]\n"
     ]
    }
   ],
   "source": [
    "# Código para Exercício 2.1\n",
    "\n",
    "dados = np.array([[3.4, 4.4], [0.6, 3.7], [4.2, 3.8], [-0.1, 3.8], [1.2, 3.8], [3.2, 3.2], [3.9, 2.3], [1.4, 3.6], [3.6, 4.7], [1.0, 3.6]])\n",
    "\n",
    "print(dados)"
   ]
  },
  {
   "cell_type": "markdown",
   "metadata": {
    "id": "MQBRlGAST7YU"
   },
   "source": [
    "#### Questão 2.2\n",
    "\n",
    "Vamos agora visualizar esses pontos no espaço 2D. Para isso, podemos usar a biblioteca [`matplotlib`](https://matplotlib.org/). Agora, com as coordenadas $x$ e $y$ dos pontos do exercício anterior, crie um gráfico de dispersão que mostre cada ponto no plano. Voce pode achar a documentação de [`plt.scatter`](https://matplotlib.org/3.1.0/api/_as_gen/matplotlib.pyplot.scatter.html) útil, além da dica que para escolher a coluna $i$ de um array bi-dimensional usamos `x[:, i]` (consulte essa página sobre [indexing](https://numpy.org/doc/stable/reference/arrays.indexing.html) em `numpy.arrays` para mais detalhes)."
   ]
  },
  {
   "cell_type": "code",
   "execution_count": 10,
   "metadata": {
    "colab": {
     "base_uri": "https://localhost:8080/",
     "height": 282
    },
    "id": "5EQWl7ATGtr1",
    "outputId": "8bf554de-542b-419b-96e7-f6d13079c46a"
   },
   "outputs": [
    {
     "data": {
      "image/png": "[encoded data removed]",
      "text/plain": [
       "<Figure size 432x288 with 1 Axes>"
      ]
     },
     "metadata": {
      "needs_background": "light"
     },
     "output_type": "display_data"
    }
   ],
   "source": [
    "# Código para Exercício 2.2\n",
    "\n",
    "x = dados[:, 0]\n",
    "y = dados[:, 1]\n",
    "\n",
    "plt.scatter(x, y)\n",
    "\n",
    "plt.show()"
   ]
  },
  {
   "cell_type": "markdown",
   "metadata": {
    "id": "HjvjGXteUoa4"
   },
   "source": [
    "#### Questão 2.3\n",
    "\n",
    "Agora que temos como visualizar os vetores no plano, vamos fazer operação de adição de vetores. Crie um array que represente um vetor $\\textbf{a}=(\\ 6,\\ 9\\ )$ e adicione-o a todos os vetores no nosso array, criando um novo array chamado `novos_dados`.\n",
    "\n",
    "**Dica**: Quando estamos tratando de matrizes, não podemos simplesmente adicionar uma matriz de tamanho $n \\times 2$ por um vetor de tamanho $2$, ou $1 \\times 2$. Porém, o `numpy` tem uma funcionalidade que é muito útil quando queremos fazer operações entre arrays que não possuem o mesmo tamanho, como é o nosso caso (podemos ver isso usando: `print(dados.shape, a.shape)`). Essa funcionalidade é o [broadcasting](https://numpy.org/doc/stable/user/basics.broadcasting.html), e ela nos ajuda a fazer operações entre arrays que não possuem o mesmo tamanho, mas algumas dimensões são compatíveis. "
   ]
  },
  {
   "cell_type": "code",
   "execution_count": 15,
   "metadata": {
    "colab": {
     "base_uri": "https://localhost:8080/"
    },
    "id": "E3Yg_vv1U2Q6",
    "outputId": "0ef0d4ef-a406-49ec-d33b-516c2b74eca8"
   },
   "outputs": [
    {
     "name": "stdout",
     "output_type": "stream",
     "text": [
      "Shape(dados): (10, 2); Shape(a): (2,)\n",
      "\n",
      "[[ 9.4 13.4]\n",
      " [ 6.6 12.7]\n",
      " [10.2 12.8]\n",
      " [ 5.9 12.8]\n",
      " [ 7.2 12.8]\n",
      " [ 9.2 12.2]\n",
      " [ 9.9 11.3]\n",
      " [ 7.4 12.6]\n",
      " [ 9.6 13.7]\n",
      " [ 7.  12.6]]\n"
     ]
    }
   ],
   "source": [
    "# Código para Exercício 2.3\n",
    "\n",
    "a = np.array([6, 9])\n",
    "\n",
    "print(\"Shape(dados): {}; Shape(a): {}\".format(dados.shape, a.shape), end='\\n\\n')\n",
    "\n",
    "novos_dados = dados + a\n",
    "\n",
    "print(novos_dados)"
   ]
  },
  {
   "cell_type": "markdown",
   "metadata": {
    "id": "dx5BrTVbdUS7"
   },
   "source": [
    "#### Questão 2.4\n",
    "\n",
    "Note que para somar arrays de dimensões diferentes (nesse caso, dados é 2D e a é 1D), o broadcasting primeiro adiciona dimensões de tamanho 1 ao início do array com menos dimensões. Só depois ele expande as dimensões de tamanho 1 para que casem com os tamanhos das dimensões do outro array.\n",
    "\n",
    "Portanto, devemos pensar no array ```a``` como um vetor coluna ou como um vetor linha?"
   ]
  },
  {
   "cell_type": "markdown",
   "metadata": {
    "id": "vVVBkK6ceWP9"
   },
   "source": [
    "**Resposta:** *Devemos pensar que o vetor ```a``` seria um vetor linha: [6, 9], que terá seu número de linhas expandido (matriz da forma (10, 2)) de modo que seja possível somar [6, 9] a cada linha da matriz de dados. Isso acontece pela definição do broadcasting, que analisa a forma da matriz de dados e transmite parte da sua forma (número de linhas) para o vetor ```a```.*"
   ]
  },
  {
   "cell_type": "markdown",
   "metadata": {
    "id": "DxzZGekorL3m"
   },
   "source": [
    "#### Questão 2.5\n",
    "\n",
    "Agora podemos ver no espaço 2D nossos vetores originais e os vetores resultantes da soma. Para isso, podemos usar a mesma função que usamos para criar o gráfico de dispersão na **Questão 2.2**, porém agora queremos mostrar os pontos de 2 arrays, e não de apenas 1."
   ]
  },
  {
   "cell_type": "code",
   "execution_count": 16,
   "metadata": {
    "colab": {
     "base_uri": "https://localhost:8080/",
     "height": 282
    },
    "id": "xeBdgoFMrQwP",
    "outputId": "863b1758-707d-4c17-9c01-a755b2e33dd1"
   },
   "outputs": [
    {
     "data": {
      "image/png": "[encoded data removed]",
      "text/plain": [
       "<Figure size 432x288 with 1 Axes>"
      ]
     },
     "metadata": {
      "needs_background": "light"
     },
     "output_type": "display_data"
    }
   ],
   "source": [
    "# Código para Exercício 2.5\n",
    "\n",
    "novo_x = novos_dados[:, 0]\n",
    "novo_y = novos_dados[:, 1]\n",
    "\n",
    "plt.scatter(x, y)\n",
    "plt.scatter(novo_x, novo_y)\n",
    "\n",
    "plt.show()"
   ]
  },
  {
   "cell_type": "markdown",
   "metadata": {
    "id": "Sz1apyFP090L"
   },
   "source": [
    "### Questão 3\n",
    "\n",
    "Como visto em aula, a multiplicação de uma matriz $G$ por um vetor $\\mathbb{x}$ pode ser vista como uma combinação linear das colunas de $G$.\n"
   ]
  },
  {
   "cell_type": "markdown",
   "metadata": {
    "id": "6Ij42r1ctg0g"
   },
   "source": [
    "\n",
    "#### Questão 3.1\n",
    "\n",
    "Dado a matriz $G$ e o vetor $\\mathbb{x}$:\n",
    "\n",
    "$$\n",
    "G = \\begin{bmatrix}\n",
    " 3 & 6 & 9\\\\\n",
    " 5 & 10 & 15\n",
    "\\end{bmatrix}_{2\\times 3}\n",
    "\\qquad\n",
    "\\mathbb{x} = \\begin{bmatrix}\n",
    " 2 \\\\\n",
    " 1 \\\\\n",
    " 1\n",
    "\\end{bmatrix}_{3\\times 1}\n",
    "$$\n",
    "\n",
    "Gere o vetor $\\mathbb{y}$ tal que:\n",
    "$$\n",
    "\\mathbb{y} = G \\mathbb{x} \\\\\n",
    "$$\n"
   ]
  },
  {
   "cell_type": "code",
   "execution_count": 17,
   "metadata": {
    "colab": {
     "base_uri": "https://localhost:8080/"
    },
    "id": "cGNQcr7Ptk0r",
    "outputId": "d5c2662e-3bee-44d3-eaa6-f92d6606bcfa"
   },
   "outputs": [
    {
     "name": "stdout",
     "output_type": "stream",
     "text": [
      "[[21]\n",
      " [35]]\n"
     ]
    }
   ],
   "source": [
    "# Código para Exercício 3.1\n",
    "\n",
    "g = np.array([[3, 6, 9], [5, 10, 15]])\n",
    "x = np.array([[2], [1], [1]])\n",
    "\n",
    "# um dos iteradores próprios implementados pelo NumPy\n",
    "it = np.nditer(x, flags=['f_index'])\n",
    "\n",
    "resultado = np.zeros((g.shape[0], x.shape[1]), dtype=int)\n",
    "\n",
    "for item in it:\n",
    "    col = g[:, it.index:it.index + 1]\n",
    "    \n",
    "    # item: i-ésimo escalar do vetor coluna; col: i-ésima coluna da matriz G\n",
    "    # para essa multiplicação, utilizamos o broadcast, igual na questão 2.3, realisando a multiplicação de uma coluna inteira por um escalar\n",
    "    resultado += item * col\n",
    "\n",
    "print(resultado)"
   ]
  },
  {
   "cell_type": "markdown",
   "metadata": {
    "id": "rD0TR2nPuIo8"
   },
   "source": [
    "#### Questão 3.2\n",
    "\n",
    "O espaço de colunas de uma matriz pode ser interpretado como o espaço formado por todas as combinações lineares das colunas da matriz. Então, vamos simular a representação do espaço de colunas da matriz $G$ criada anteriormente fazendo várias combinações lineares de suas colunas. Para isso, podemos criar vários vetores-coluna $x$ aleatórios, calcular a operação $y = Gx$ para cada um deles, e mostrar onde cada vetor $y$ está localizado no espaço. Portanto, faça os seguintes passos:\n",
    "\n",
    "1. Crie um vetor-coluna $x \\in \\mathbb{R}^{3 \\times 1}$ com valores aleatórios entre $-10$ e $10$.\n",
    "1. Calcule $y = Gx$. Esse passo pode ser feito da mesma forma que a **Questão 3.1**.\n",
    "1. Plote no plano 2D um ponto com as coordenadas do $y$ resultante.\n",
    "\n",
    "Repita esses passos 10 vezes. **Dica:** para a criação dos valores $x$ aleatórios, voce pode escolher os números você mesmo ou usar a função [`np.random.randint`](https://numpy.org/doc/stable/reference/random/generated/numpy.random.randint.html). Para a  visualização, utilize a biblioteca [`matplotlib`](https://matplotlib.org/), e deixe para usar `plt.show()` apenas depois de ter plotado todos os vetores $y$, para que todos apareçam no mesmo gráfico."
   ]
  },
  {
   "cell_type": "code",
   "execution_count": 18,
   "metadata": {
    "colab": {
     "base_uri": "https://localhost:8080/",
     "height": 1000
    },
    "id": "bf8B6CPPwXsE",
    "outputId": "97ea8c8f-60f9-4a94-b4ad-5ff43afc5880"
   },
   "outputs": [
    {
     "name": "stdout",
     "output_type": "stream",
     "text": [
      "1° X: \n",
      " [[8]\n",
      " [8]\n",
      " [6]] (3, 1)\n",
      "\n",
      "1° Y: \n",
      " [[126]\n",
      " [210]] (2, 1)\n",
      "\n",
      "2° X: \n",
      " [[ 8]\n",
      " [ 4]\n",
      " [-1]] (3, 1)\n",
      "\n",
      "2° Y: \n",
      " [[39]\n",
      " [65]] (2, 1)\n",
      "\n",
      "3° X: \n",
      " [[-2]\n",
      " [-6]\n",
      " [ 9]] (3, 1)\n",
      "\n",
      "3° Y: \n",
      " [[39]\n",
      " [65]] (2, 1)\n",
      "\n",
      "4° X: \n",
      " [[  4]\n",
      " [-10]\n",
      " [ -1]] (3, 1)\n",
      "\n",
      "4° Y: \n",
      " [[-57]\n",
      " [-95]] (2, 1)\n",
      "\n",
      "5° X: \n",
      " [[4]\n",
      " [8]\n",
      " [7]] (3, 1)\n",
      "\n",
      "5° Y: \n",
      " [[123]\n",
      " [205]] (2, 1)\n",
      "\n",
      "6° X: \n",
      " [[-3]\n",
      " [ 9]\n",
      " [-7]] (3, 1)\n",
      "\n",
      "6° Y: \n",
      " [[-18]\n",
      " [-30]] (2, 1)\n",
      "\n",
      "7° X: \n",
      " [[-9]\n",
      " [ 2]\n",
      " [ 3]] (3, 1)\n",
      "\n",
      "7° Y: \n",
      " [[12]\n",
      " [20]] (2, 1)\n",
      "\n",
      "8° X: \n",
      " [[ 5]\n",
      " [-1]\n",
      " [ 1]] (3, 1)\n",
      "\n",
      "8° Y: \n",
      " [[18]\n",
      " [30]] (2, 1)\n",
      "\n",
      "9° X: \n",
      " [[-7]\n",
      " [-7]\n",
      " [ 7]] (3, 1)\n",
      "\n",
      "9° Y: \n",
      " [[0]\n",
      " [0]] (2, 1)\n",
      "\n",
      "10° X: \n",
      " [[  2]\n",
      " [-10]\n",
      " [  9]] (3, 1)\n",
      "\n",
      "10° Y: \n",
      " [[27]\n",
      " [45]] (2, 1)\n",
      "\n"
     ]
    },
    {
     "data": {
      "image/png": "[encoded data removed]",
      "text/plain": [
       "<Figure size 432x288 with 1 Axes>"
      ]
     },
     "metadata": {
      "needs_background": "light"
     },
     "output_type": "display_data"
    }
   ],
   "source": [
    "for i in range(10):\n",
    "    x = np.random.randint(-10, 10, size=(3, 1))\n",
    "    print(f\"{i+1}° X: \\n\", x, x.shape, end='\\n\\n')\n",
    "\n",
    "    y = g @ x\n",
    "    print(f\"{i+1}° Y: \\n\", y, y.shape, end='\\n\\n')\n",
    "\n",
    "    eixo_x = y.T[:, 0]\n",
    "    eixo_y = y.T[:, 1]\n",
    "\n",
    "    plt.scatter(eixo_x, eixo_y)\n",
    "\n",
    "plt.show()"
   ]
  },
  {
   "cell_type": "markdown",
   "metadata": {
    "id": "WWwfDjZQyBKt"
   },
   "source": [
    "#### Questão 3.3\n",
    "\n",
    "No item anterior, você deve ter obtido uma reta ao visualizar o gráfico resultante. Por que isso acontece no caso dessa matriz $G$ em específico?"
   ]
  },
  {
   "cell_type": "markdown",
   "metadata": {
    "id": "mpB7U8BqyEQl"
   },
   "source": [
    "**Resposta:** *A matriz ```G```, apesar de possuir 2 linhas e 3 colunas, é de posto 1, por ter somente linhas e colunas as quais são múltiplas umas das outras. Por isso, a matriz ```G``` delimita um espaço unidimensional, que seria a reta delimitada pelos pontos marcados no exercício anterior.*"
   ]
  },
  {
   "cell_type": "markdown",
   "metadata": {
    "id": "9XrQcmBc4RVE"
   },
   "source": [
    "#### Questão 3.4\n",
    "\n",
    "Agora que sabemos que o espaço coluna da matriz $G$ é uma reta, encontre dois pontos no espaço coluna $C(G)$ e use o comando ```plt.plot()``` para traçá-la."
   ]
  },
  {
   "cell_type": "code",
   "execution_count": 19,
   "metadata": {
    "colab": {
     "base_uri": "https://localhost:8080/",
     "height": 439
    },
    "id": "S-zMnudo4kXZ",
    "outputId": "8318bddb-1076-4c5c-ae9b-2cfc4cd83512"
   },
   "outputs": [
    {
     "name": "stdout",
     "output_type": "stream",
     "text": [
      "X: \n",
      " [[-7]\n",
      " [ 6]\n",
      " [ 1]] (3, 1)\n",
      "\n",
      "A: \n",
      " [[24]\n",
      " [40]] (2, 1)\n",
      "\n",
      "X: \n",
      " [[ 9]\n",
      " [-8]\n",
      " [-9]] (3, 1)\n",
      "\n",
      "B: \n",
      " [[-102]\n",
      " [-170]] (2, 1)\n",
      "\n"
     ]
    },
    {
     "data": {
      "image/png": "[encoded data removed]",
      "text/plain": [
       "<Figure size 432x288 with 1 Axes>"
      ]
     },
     "metadata": {
      "needs_background": "light"
     },
     "output_type": "display_data"
    }
   ],
   "source": [
    "x = np.random.randint(-10, 10, size=(3, 1))\n",
    "print(\"X: \\n\", x, x.shape, end='\\n\\n')\n",
    "\n",
    "a = g @ x\n",
    "print(\"A: \\n\", a, a.shape, end='\\n\\n')\n",
    "\n",
    "x = np.random.randint(-10, 10, size=(3, 1))\n",
    "print(\"X: \\n\", x, x.shape, end='\\n\\n')\n",
    "\n",
    "b = g @ x\n",
    "print(\"B: \\n\", b, b.shape, end='\\n\\n')\n",
    "\n",
    "eixo_x = np.array([a.T[:, 0], b.T[:, 0]])\n",
    "eixo_y = np.array([a.T[:, 1], b.T[:, 1]])\n",
    "\n",
    "plt.plot(eixo_x, eixo_y)\n",
    "\n",
    "plt.show()"
   ]
  },
  {
   "cell_type": "code",
   "execution_count": null,
   "metadata": {},
   "outputs": [],
   "source": []
  }
 ],
 "metadata": {
  "colab": {
   "collapsed_sections": [],
   "name": "EP1 - Resolução.ipynb",
   "provenance": []
  },
  "kernelspec": {
   "display_name": "Python 3 (ipykernel)",
   "language": "python",
   "name": "python3"
  },
  "language_info": {
   "codemirror_mode": {
    "name": "ipython",
    "version": 3
   },
   "file_extension": ".py",
   "mimetype": "text/x-python",
   "name": "python",
   "nbconvert_exporter": "python",
   "pygments_lexer": "ipython3",
   "version": "3.8.10"
  }
 },
 "nbformat": 4,
 "nbformat_minor": 1
}
