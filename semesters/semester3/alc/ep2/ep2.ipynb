{
  "nbformat": 4,
  "nbformat_minor": 0,
  "metadata": {
    "colab": {
      "name": "EP2.ipynb",
      "provenance": [],
      "collapsed_sections": []
    },
    "kernelspec": {
      "display_name": "Python 3",
      "language": "python",
      "name": "python3"
    },
    "language_info": {
      "codemirror_mode": {
        "name": "ipython",
        "version": 3
      },
      "file_extension": ".py",
      "mimetype": "text/x-python",
      "name": "python",
      "nbconvert_exporter": "python",
      "pygments_lexer": "ipython3",
      "version": "3.6.5"
    }
  },
  "cells": [
    {
      "cell_type": "markdown",
      "metadata": {
        "id": "uQ62eZUEvexJ"
      },
      "source": [
        "# Exercício de Programação 2: PageRank\n",
        "\n",
        "<font color=\"red\">**Prazo de submissão: 23:55 do dia 18/01/2021** </font>\n",
        "\n",
        "2020.2 Álgebra Linear Computacional - DCC - UFMG\n",
        "\n",
        "Erickson e Fabricio\n",
        "\n",
        "Instruções:\n",
        "* Antes de submeter suas soluções, certifique-se de que tudo roda como esperado. Primeiro, **reinicie o kernel** no menu, selecione Kernel$\\rightarrow$Restart e então execute **todas as células** (no menu, Cell$\\rightarrow$Run All)\n",
        "* **Apenas o arquivo .py deve ser submetido**. Você deve salvar o seu notebook em Python script (no menu, File $\\rightarrow$ Download .py) e enviar o script Python no Ambiente de Programação Virtual.\n",
        "* **Preste bastante atenção nos nomes das variáveis e métodos** (irá estar em negrito), se elas estiverem diferentes do que foi pedido no exercício, *sua resposta será considerada incorreta pelo corretor automático*.\n",
        "* Os exercícios desse EP utilizam os conceitos do PageRank vistos em aula, inclusive o de *matrizes de transição*, porém, neste notebook em alguns exercícios as matrizes podem estar num formato **transposto** do que vimos em aula, ou seja, com os links de saída da página $i$ na linha $i$, ao invés da coluna (mais detalhes sobre isso no notebook).\n",
        "* Não deixe de preencher seu nome e número de matrícula na célula a seguir"
      ]
    },
    {
      "cell_type": "markdown",
      "metadata": {
        "id": "RPKeHzw6vexK"
      },
      "source": [
        "**Nome:** Vinicius Silva Gomes, Mirna Mendonça e Silva, Filipe de Araújo Mendes\n",
        "\n",
        "**Matrícula:** 2021421869, 2021421940, 2021031920\n",
        "\n",
        "* Todo material consultado na Internet deve ser referenciado (incluir URL).\n",
        "\n",
        "Este trabalho está dividido em três partes:\n",
        " * **Parte 0**: Esta parte não vale nota, mas é fundamental para entender o que se pede a seguir.\n",
        " * **Parte 1**: Pagerank sem saltos aleatórios em grafo pequeno\n",
        " * **Parte 2**: Pagerank (com saltos aleatórios) em grafo pequeno"
      ]
    },
    {
      "cell_type": "markdown",
      "metadata": {
        "id": "Oz9PxS-YvexL"
      },
      "source": [
        "## Parte 0: Revisão de conceitos\n",
        "\n",
        "I. O **primeiro autovetor** (isto é, o autovetor associado ao maior autovalor em módulo) pode ser calculado rapidamente através do método da potência, desde que o *gap* entre o maior e o segundo maior autovalor (em módulo) seja grande. Uma implementação simples do método da potência é mostrada a seguir."
      ]
    },
    {
      "cell_type": "code",
      "metadata": {
        "id": "_HiRBalhvexL"
      },
      "source": [
        "import numpy as np\n",
        "\n",
        "def powerMethod(A, niter=10):\n",
        "    n = len(A)\n",
        "    w = np.ones((n,1))/n\n",
        "    for i in range(niter):\n",
        "        w = A.dot(w) \n",
        "    return w"
      ],
      "execution_count": null,
      "outputs": []
    },
    {
      "cell_type": "markdown",
      "metadata": {
        "id": "h_W0jcC62IWZ"
      },
      "source": [
        "\n",
        "II. Dado um grafo $G=(V, E)$ com n vértices, podemos obter **uma matriz de transição** $A$ de tamanho $n \\times n$ em que cada elemento $ij$ na matriz representa uma aresta direcionada do vértice $i$ para o vértice $j$. Por exemplo, para o seguinte grafo direcionado:\n",
        "\n",
        "<img src='https://www.dropbox.com/s/wmk8v8worinoqk0/grafo-simples-2.PNG?raw=1'>\n",
        "\n",
        "a matriz de transição seria:\n",
        "\n",
        "$$\n",
        "A = \n",
        "\\begin{bmatrix}\n",
        "0 & 1 & 0 & 0 & 0 \\\\ \n",
        "0 & 0 & 1 & 0 & 0 \\\\ \n",
        "1 & 0 & 0 & 1 & 0 \\\\ \n",
        "0 & 0 & 0 & 0 & 1 \\\\ \n",
        "0 & 1 & 0 & 0 & 0\n",
        "\\end{bmatrix}\n",
        "$$\n",
        "\n",
        "**Essa notação é um pouco diferente da que vimos em aula**, já que no vídeo e os slides as saídas de cada página eram dadas nas colunas, e não nas linhas. Mesmo com essa diferença, podemos realizar as mesmas operações que vimos em aula. Por exemplo: \n",
        "\n",
        "- Para multiplicar a matriz $A$ por um vetor, podemos usar por exemplo: $A^\\top \\textbf{v}$. Ou alternativamente podemos usar $\\textbf{v}^\\top A$.\n",
        "- Para obter a quantidade de links de saída, precisamos somar ao longo das linhas, ao invés das colunas."
      ]
    },
    {
      "cell_type": "markdown",
      "metadata": {
        "id": "QI7kGQZZvexQ"
      },
      "source": [
        "III. Dado um grafo $G=(V,E)$, podemos obter uma **matriz de probabilidade de transição** $P$ dividindo-se cada linha de $A$ pela soma dos elementos da linha. Seja $D$ a matriz diagonal contendo a soma das linhas de $A$. Temos que\n",
        "\n",
        "$$\n",
        "P = D^{-1} \\times A.\n",
        "$$"
      ]
    },
    {
      "cell_type": "markdown",
      "metadata": {
        "id": "b2cJ5hesvexR"
      },
      "source": [
        "IV. A matriz de probabilidade de transição $P$ de certos grafos direcionados satisfaz\n",
        "\n",
        "$$\n",
        "v^\\top P = v^\\top \\textrm{ou $P^\\top v = v$},\n",
        "$$\n",
        "\n",
        "onde $v$ é o primeiro autovetor de $P^\\top$. A equação da direita é mais fácil de ser utilizada, pois ela tem a forma canônica $Ax=b$. Já a equação da esquerda é mais fácil de ser interpretada. Para todo $j=1,\\ldots,n$,\n",
        "\n",
        "$$\n",
        "\\sum_{i=1} v_i P_{ij} = v_j \\\\\n",
        "\\Rightarrow \\sum_{i=1} v_i \\frac{A_{ij}}{D_{ii}} = v_j \\\\\n",
        "\\Rightarrow \\sum_{i:(i,j) \\in E} v_i \\frac{1}{D_{ii}} = v_j\n",
        "$$\n",
        "\n",
        "em que nesse último somatório, a soma se dá apenas aos vértices $i$ que possuem link para $j$, ou seja, a aresta $(i,j)$ pertence ao conjunto $E$ de arestas $i:(i,j) \\in E$."
      ]
    },
    {
      "cell_type": "markdown",
      "metadata": {
        "id": "oW-klTh6vexR"
      },
      "source": [
        "V. Assuma que $v$ seja normalizado de forma que $\\sum_j v_j = 1$. O PageRank (sem saltos) de um vértice $j$ é dado por $v_j$, onde $v$ é o primeiro autovetor de $P^\\top$. Esta é uma maneira de medir sua relevância. A intuição da Equação $\\sum_{i:(i,j) \\in E} v_i /D_{ii} = v_j$ é que a relevância de $j$ é a soma das relevâncias dos vértices $i$ que apontam para $j$ normalizados pelos seus respectivos graus de saída."
      ]
    },
    {
      "cell_type": "markdown",
      "metadata": {
        "id": "znlbzFthvexS"
      },
      "source": [
        "## Parte 1: Pagerank sem saltos aleatórios em grafo pequeno\n",
        "\n",
        "Considere o grafo a seguir composto por $n=4$ vértices e $m=8$ arestas. \n",
        "<img src='https://www.dropbox.com/s/oxibt5daw1g4dw3/directedgraph.png?raw=1'>\n",
        "\n",
        "Certifique-se de que encontrou as $m=8$ arestas."
      ]
    },
    {
      "cell_type": "markdown",
      "metadata": {
        "id": "crXuarjrvexS"
      },
      "source": [
        "**1.1** Crie um numpy array chamado <b> A </b>, contendo a matriz de adjacência."
      ]
    },
    {
      "cell_type": "code",
      "metadata": {
        "id": "MtCaXDS3vexT",
        "colab": {
          "base_uri": "https://localhost:8080/"
        },
        "outputId": "814103bf-dd1a-47f5-af6c-6b612d46e441"
      },
      "source": [
        "A = np.array([[0, 1, 1, 0], [0, 0, 1, 1], [0, 0, 0, 1], [1, 1, 1, 0]])\n",
        "print(A)"
      ],
      "execution_count": null,
      "outputs": [
        {
          "output_type": "stream",
          "name": "stdout",
          "text": [
            "[[0 1 1 0]\n",
            " [0 0 1 1]\n",
            " [0 0 0 1]\n",
            " [1 1 1 0]]\n"
          ]
        }
      ]
    },
    {
      "cell_type": "markdown",
      "metadata": {
        "id": "jxIdLmlyvexZ"
      },
      "source": [
        "**1.2** Escreva uma função chamada <b>matrizDeTransicao</b> que recebe como entrada uma matriz $n \\times n$ e retorna a matriz de probabilidade de transição desta matriz. Aplique a função em <b>A</b> e armazene o resultado na variável <b>P</b>, e depois imprima <b>P</b>."
      ]
    },
    {
      "cell_type": "code",
      "metadata": {
        "id": "KYbc3agDvexZ",
        "colab": {
          "base_uri": "https://localhost:8080/"
        },
        "outputId": "627a0ba3-cb94-4151-d4b0-4d73bd5c33c8"
      },
      "source": [
        "def matrizDeTransicao(A):\n",
        "  somaDasLinhas = A.sum(axis=1)\n",
        "  D = np.diag(somaDasLinhas)\n",
        "  P = np.linalg.inv(D) @ A\n",
        "  return P\n",
        "\n",
        "P = matrizDeTransicao(A)\n",
        "\n",
        "print(P)"
      ],
      "execution_count": null,
      "outputs": [
        {
          "output_type": "stream",
          "name": "stdout",
          "text": [
            "[[0.         0.5        0.5        0.        ]\n",
            " [0.         0.         0.5        0.5       ]\n",
            " [0.         0.         0.         1.        ]\n",
            " [0.33333333 0.33333333 0.33333333 0.        ]]\n"
          ]
        }
      ]
    },
    {
      "cell_type": "markdown",
      "metadata": {
        "id": "kssQbOAavexe"
      },
      "source": [
        "**1.3** Use a função <i>np.linalg.eig</i> para calcular o primeiro autovetor de $P^\\top$. Normalize o autovetor pela sua soma em uma variável chamada <b>autovec</b> e imprima o resultado. (Observação: os elementos do autovetor serão retornados como números complexos, mas a parte imaginária será nula e pode ser ignorada.)"
      ]
    },
    {
      "cell_type": "code",
      "metadata": {
        "id": "f16Ed-KPvexe",
        "colab": {
          "base_uri": "https://localhost:8080/"
        },
        "outputId": "4947f838-2624-48e7-fa3b-ccbd09c114f2"
      },
      "source": [
        "priAutovetor = np.linalg.eig(P.T)[1][:, 0] #eig retorna dois arrays, o primeiro com os valores e o segundo com os vetores, nesse caso o valores[0] já era o maior, então peguei a coluna 0 da matriz vetores que representa o vetor desse valor\n",
        "print(priAutovetor)\n",
        "autovec = priAutovetor / priAutovetor.sum()\n",
        "print(autovec)"
      ],
      "execution_count": null,
      "outputs": [
        {
          "output_type": "stream",
          "name": "stdout",
          "text": [
            "[0.24033671+0.j 0.36050506+0.j 0.54075759+0.j 0.72101012+0.j]\n",
            "[0.12903226+0.j 0.19354839+0.j 0.29032258+0.j 0.38709677+0.j]\n"
          ]
        }
      ]
    },
    {
      "cell_type": "markdown",
      "metadata": {
        "id": "4jKEgUnEvexh"
      },
      "source": [
        "**1.4** Verifique que o método da potência aplicado a $P^\\top$ retorna uma aproximação para o primeiro autovetor. Atribua o resultado retornado pelo método na variável <b> result_pm </b> e imprima-o."
      ]
    },
    {
      "cell_type": "code",
      "metadata": {
        "id": "2HAkj9fOvexi",
        "colab": {
          "base_uri": "https://localhost:8080/"
        },
        "outputId": "7125d37f-6ce7-49e8-ddcc-c5574015c642"
      },
      "source": [
        "result_pm = powerMethod(P.T)\n",
        "print (result_pm)"
      ],
      "execution_count": null,
      "outputs": [
        {
          "output_type": "stream",
          "name": "stdout",
          "text": [
            "[[0.12885802]\n",
            " [0.19331115]\n",
            " [0.29024402]\n",
            " [0.38758681]]\n"
          ]
        }
      ]
    },
    {
      "cell_type": "markdown",
      "metadata": {
        "id": "pyAZd73fvexn"
      },
      "source": [
        "**1.5** Implemente uma função <b>powerMethodEps(A, epsilon)</b> que executa o método da potência até que a condição de convergência $\\|w_{t} - w_{t-1}\\| < \\epsilon$ seja atingida. Para a matriz $P^\\top$ com $\\epsilon=10^{-5}$, armazene o resultado do método da potência na variável <b>result_pm_eps</b> *(1.5.1)*, e o número de iterações na variável <b>nb_iters</b> *(1.5.2)*.\n",
        "\n",
        "Imprima o resultado das duas variáveis."
      ]
    },
    {
      "cell_type": "code",
      "metadata": {
        "id": "6dk2a5i7vexo",
        "colab": {
          "base_uri": "https://localhost:8080/"
        },
        "outputId": "fd98e9f3-4de1-4575-8693-7328c41670d3"
      },
      "source": [
        "def powerMethodEps(A, epsilon):\n",
        "  count = 0\n",
        "\n",
        "  n = len(A)\n",
        "  w = np.ones((n,1))/n\n",
        "  aux = np.zeros(w.shape)\n",
        "\n",
        "  while np.linalg.norm(w - aux) >= epsilon:\n",
        "    aux = w\n",
        "    w = A.dot(w)\n",
        "    count += 1\n",
        "\n",
        "  return (w, count)\n",
        "\n",
        "result = powerMethodEps(P.T, 1e-5)\n",
        "result_pm_eps = result[0]\n",
        "nb_iters = result[1]\n",
        "\n",
        "print(result_pm_eps)\n",
        "print(nb_iters)"
      ],
      "execution_count": null,
      "outputs": [
        {
          "output_type": "stream",
          "name": "stdout",
          "text": [
            "[[0.12903346]\n",
            " [0.19354849]\n",
            " [0.29032191]\n",
            " [0.38709614]]\n",
            "19\n"
          ]
        }
      ]
    },
    {
      "cell_type": "markdown",
      "metadata": {
        "id": "MQwHkfXvvexr"
      },
      "source": [
        "## Parte II: Pagerank (com saltos aleatórios) em grafo pequeno\n",
        "\n",
        "Agora iremos modificar a matriz A de forma a:\n",
        " * adicionar um novo vértice 4, e\n",
        " * adicionar uma aresta de 3 para 4.\n",
        " \n",
        "Obviamente a matriz de probabilidade de transição não está definida para a nova matriz $A$. Vértices que não possuem arestas de saída (como o vértice 4) são conhecidos como *dangling nodes*. Para resolver este e outros problemas, incluiremos a possibilidade de realizar saltos aleatórios de um vértice para qualquer outro vértice.\n",
        "\n",
        "Em particular, assume-se que com probabilidade $\\alpha$, seguimos uma das arestas de saída em $A$ e, com probabilidade $1-\\alpha$ realizamos um salto aleatório, isto é, transicionamos do vértice $v$ para um dos $n$ vértices do grafo (incluindo $v$) escolhido uniformemente. Quando não existem *dangling nodes*, a nova matriz de probabilidade de transição é dada por\n",
        "\n",
        "$$\n",
        "P = \\alpha D^{-1} A + (1-\\alpha) \\frac{\\mathbf{1}\\mathbf{1}^\\top}{n}\n",
        "$$\n",
        "\n",
        "Quando existem *dangling nodes*, a única possibilidade a partir desses nós é fazer saltos aleatórios. Mais precisamente, se $i$ é um vértice sem arestas de saída, desejamos que a $i$-ésima linha de $P$ seja o vetor $[1/n,\\ldots,1/n]$. Uma forma de satisfazer essa definição é preencher com 1's as linhas de $A$ que correspondem aos *dangling nodes*. Uma desvantagem desta estratégia é que faz com que $A$ fique mais densa (mais elementos não-nulos).\n",
        "\n",
        "Um valor típico usado para $\\alpha$ é $0.85$."
      ]
    },
    {
      "cell_type": "markdown",
      "metadata": {
        "id": "KuYrPgEUvexr"
      },
      "source": [
        "**2.1** Crie um novo numpy array chamado <b> A_new </b> contendo o vértice 4 e a aresta (3,4)."
      ]
    },
    {
      "cell_type": "code",
      "metadata": {
        "id": "YcLYaqbHvexs",
        "colab": {
          "base_uri": "https://localhost:8080/"
        },
        "outputId": "d0db3ed7-cc5d-4497-95d5-6bb3ac719011"
      },
      "source": [
        "A_new = np.array([[0, 1, 1, 0, 0], [0, 0, 1, 1, 0], [0, 0, 0, 1, 0], [1, 1, 1, 0, 1], [0, 0, 0, 0, 0]])\n",
        "print(A_new)"
      ],
      "execution_count": null,
      "outputs": [
        {
          "output_type": "stream",
          "name": "stdout",
          "text": [
            "[[0 1 1 0 0]\n",
            " [0 0 1 1 0]\n",
            " [0 0 0 1 0]\n",
            " [1 1 1 0 1]\n",
            " [0 0 0 0 0]]\n"
          ]
        }
      ]
    },
    {
      "cell_type": "markdown",
      "metadata": {
        "id": "oce_KjnYvexv"
      },
      "source": [
        "**2.2** Crie uma função **fixDangling(M)** que retorna uma cópia modificada da matriz de adjacência **M** onde cada *dangling node* do grafo original possui arestas para todos os vértices do grafo. *Dica:* Você pode criar um vetor $d$ com os graus de saída e acessar as linhas de $M$ correpondentes aos *dangling nodes* por $M[d==0,:]$. Imprima uma nova matriz chamada **A_fixed** retornada após chamar *fixDangling* para **A_new**.  "
      ]
    },
    {
      "cell_type": "code",
      "metadata": {
        "id": "0JN8E2Flvexw",
        "colab": {
          "base_uri": "https://localhost:8080/"
        },
        "outputId": "0d549675-1017-4435-fba8-ef518983864a"
      },
      "source": [
        "def fixDangling(M):\n",
        "  A_fixed = M.copy()\n",
        "  num_rows, num_cols = A_fixed.shape\n",
        "  ones = np.ones(num_cols)\n",
        "  \n",
        "  for i in range(num_rows):\n",
        "    if np.all(A_fixed[i, :] == 0):\n",
        "      A_fixed[i, :] = ones\n",
        "\n",
        "  return A_fixed\n",
        "\n",
        "A_fixed = fixDangling(A_new)\n",
        "print(A_fixed)"
      ],
      "execution_count": null,
      "outputs": [
        {
          "output_type": "stream",
          "name": "stdout",
          "text": [
            "[[0 1 1 0 0]\n",
            " [0 0 1 1 0]\n",
            " [0 0 0 1 0]\n",
            " [1 1 1 0 1]\n",
            " [1 1 1 1 1]]\n"
          ]
        }
      ]
    },
    {
      "cell_type": "markdown",
      "metadata": {
        "id": "DLlA7cscvexz"
      },
      "source": [
        "**2.3** Crie uma função **matrizDeTransicao(M, alpha)** que receba como parâmetro também a probabilidade *alpha* de não fazermos um salto aleatório. Você pode assumir que **M** foi retornada por *fixDanglig*, logo, não possui *dangling nodes*. Imprima as matrizes:\n",
        " * *(2.3.1)* **P_2** obtida ao chamar *matrizDeTransicao* para os parâmetros **A** e **alpha**=$0.85$;\n",
        " * *(2.3.2)* **P_new** obtida ao chamar matrizDeTransicao para os parâmetros **A_fixed** e **alpha**=$0.85$."
      ]
    },
    {
      "cell_type": "code",
      "metadata": {
        "id": "F5wdtLIVvex0",
        "colab": {
          "base_uri": "https://localhost:8080/"
        },
        "outputId": "ef559b61-ef25-4447-818a-ac06e9489de6"
      },
      "source": [
        "def matrizDeTransicao(M, alpha):\n",
        "  A = M.copy()\n",
        "  A = A.astype(float)\n",
        "\n",
        "  num_rows, num_cols = A.shape  \n",
        "\n",
        "  for i in range(num_rows):\n",
        "    A[i, :] = A[i, :] / A[i, :].sum()\n",
        "    for j in range (num_cols):\n",
        "      A[i, j] *= alpha\n",
        "      A[i, j] += (1 - alpha)/num_cols\n",
        "\n",
        "  return A\n",
        "\n",
        "P_2 = matrizDeTransicao(A, 0.85)\n",
        "print(P_2)\n",
        "\n",
        "P_new = matrizDeTransicao(A_fixed, 0.85)\n",
        "print(P_new)"
      ],
      "execution_count": null,
      "outputs": [
        {
          "output_type": "stream",
          "name": "stdout",
          "text": [
            "[[0.0375     0.4625     0.4625     0.0375    ]\n",
            " [0.0375     0.0375     0.4625     0.4625    ]\n",
            " [0.0375     0.0375     0.0375     0.8875    ]\n",
            " [0.32083333 0.32083333 0.32083333 0.0375    ]]\n",
            "[[0.03   0.455  0.455  0.03   0.03  ]\n",
            " [0.03   0.03   0.455  0.455  0.03  ]\n",
            " [0.03   0.03   0.03   0.88   0.03  ]\n",
            " [0.2425 0.2425 0.2425 0.03   0.2425]\n",
            " [0.2    0.2    0.2    0.2    0.2   ]]\n"
          ]
        }
      ]
    },
    {
      "cell_type": "markdown",
      "metadata": {
        "id": "fSXsxfT_vex5"
      },
      "source": [
        "**2.4** Armazene, respectivamente, o resultado do método da potência com:\n",
        "* *(2.4.1)* $P_2^\\top$ e $\\epsilon=10^{-5}$\n",
        "* *(2.4.2)* $P_\\textrm{new}^\\top$ e $\\epsilon=10^{-5}$.\n",
        "\n",
        "nas variáveis **pm_eps_P2** e **pm_eps_Pnew**; "
      ]
    },
    {
      "cell_type": "code",
      "metadata": {
        "id": "gH-t5-OUvex5",
        "colab": {
          "base_uri": "https://localhost:8080/"
        },
        "outputId": "1e8737d9-ddf4-4649-bffc-e461dfe11203"
      },
      "source": [
        "pm_eps_P2 = powerMethodEps(P_2.T, 10e-5)[0]\n",
        "pm_eps_Pnew = powerMethodEps(P_new.T, 10e-5)[0]\n",
        "\n",
        "print(pm_eps_P2)\n",
        "print(pm_eps_Pnew)"
      ],
      "execution_count": null,
      "outputs": [
        {
          "output_type": "stream",
          "name": "stdout",
          "text": [
            "[[0.14180126]\n",
            " [0.20208064]\n",
            " [0.28796856]\n",
            " [0.36814953]]\n",
            "[[0.12189213]\n",
            " [0.17370957]\n",
            " [0.24754394]\n",
            " [0.33496224]\n",
            " [0.12189213]]\n"
          ]
        }
      ]
    },
    {
      "cell_type": "markdown",
      "metadata": {
        "id": "qMgo37N1vex8"
      },
      "source": [
        "**2.5** Sejam $i_\\max$ e $i_\\min$ os índices dos vértices com maior e menor PageRank de **A_fixed**. Vamos verificar como a adição de um novo link pode ajudar a promover uma página web (vértice). Adicione uma aresta do vértice $i_\\max$ para o vértice $i_\\min$ (se já houver aresta, aumente de 1 para 2 o elemento da matriz de adjacência). Salve o valor do novo pagerank na variável **new_pagerank**. Qual é o novo pagerank de $i_\\min$?"
      ]
    },
    {
      "cell_type": "code",
      "metadata": {
        "id": "9TLsIp_3vex8"
      },
      "source": [
        "aux_A_fixed = A_fixed.copy()\n",
        "aux_A_fixed[3, 0] += 1"
      ],
      "execution_count": null,
      "outputs": []
    },
    {
      "cell_type": "code",
      "source": [
        "matriz = matrizDeTransicao(aux_A_fixed, 0.85)\n",
        "new_pagerank = powerMethodEps(matriz.T, 1e-5)[0]"
      ],
      "metadata": {
        "id": "54bcCQh0O51Q"
      },
      "execution_count": null,
      "outputs": []
    }
  ]
}